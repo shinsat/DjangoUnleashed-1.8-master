{
 "cells": [
  {
   "cell_type": "markdown",
   "metadata": {},
   "source": [
    "# Model Validation\n",
    "\n",
    "By default, Django does not use Model Validation (unless we use `ModelForm`). Please see the end of Chapter 7 in the book for more details."
   ]
  },
  {
   "cell_type": "code",
   "execution_count": 1,
   "metadata": {
    "collapsed": true
   },
   "outputs": [],
   "source": [
    "from datetime import date\n",
    "from blog.models import Post"
   ]
  },
  {
   "cell_type": "code",
   "execution_count": 2,
   "metadata": {
    "collapsed": false
   },
   "outputs": [
    {
     "data": {
      "text/plain": [
       "<Post: Django Training on 2013-01-18>"
      ]
     },
     "execution_count": 2,
     "metadata": {},
     "output_type": "execute_result"
    }
   ],
   "source": [
    "\"\"\"\n",
    "# If the command below does not work, remove the triple-quotation lines and run again\n",
    "training_post = Post.objects.create(\n",
    "    title='Django Training',\n",
    "    slug='django-training',\n",
    "    text=(\n",
    "        \"Learn Django in a classroom setting \"\n",
    "        \"with JamBon Software.\"),\n",
    ")\n",
    "training_post.pub_date = date(2013, 1, 18)\n",
    "training_post.save()\n",
    "\"\"\"\n",
    "training_post = Post.objects.get(slug='django-training')\n",
    "training_post"
   ]
  },
  {
   "cell_type": "code",
   "execution_count": 3,
   "metadata": {
    "collapsed": false
   },
   "outputs": [
    {
     "data": {
      "text/plain": [
       "<Post: Conflict on 2015-06-09>"
      ]
     },
     "execution_count": 3,
     "metadata": {},
     "output_type": "execute_result"
    }
   ],
   "source": [
    "conflict = Post.objects.create(\n",
    "    title='Conflict',\n",
    "    slug=training_post.slug,  # Our Post model defines slug as unique!\n",
    "    pub_date=training_post.pub_date,\n",
    "    text='This object will cause problems.',\n",
    ")\n",
    "conflict"
   ]
  },
  {
   "cell_type": "code",
   "execution_count": 4,
   "metadata": {
    "collapsed": false
   },
   "outputs": [
    {
     "data": {
      "text/plain": [
       "<Post: Conflict on 2013-01-18>"
      ]
     },
     "execution_count": 4,
     "metadata": {},
     "output_type": "execute_result"
    }
   ],
   "source": [
    "# auto_now_add=True has overriden our pub_date\n",
    "# we therefore reset the date again\n",
    "conflict.pub_date = training_post.pub_date\n",
    "conflict.save()\n",
    "conflict"
   ]
  },
  {
   "cell_type": "code",
   "execution_count": 5,
   "metadata": {
    "collapsed": false
   },
   "outputs": [
    {
     "data": {
      "text/plain": [
       "[<Post: Conflict on 2013-01-18>, <Post: Django Training on 2013-01-18>]"
      ]
     },
     "execution_count": 5,
     "metadata": {},
     "output_type": "execute_result"
    }
   ],
   "source": [
    "Post.objects.all()"
   ]
  },
  {
   "cell_type": "code",
   "execution_count": 6,
   "metadata": {
    "collapsed": false
   },
   "outputs": [
    {
     "name": "stdout",
     "output_type": "stream",
     "text": [
      "get() returned more than one Post -- it returned 2!\n"
     ]
    }
   ],
   "source": [
    "# this exception will be displayed at http://127.0.0.1:8000/blog/2013/11/django-training/\n",
    "try:\n",
    "    Post.objects.get(\n",
    "        pub_date__year=2013,\n",
    "        pub_date__month=1,\n",
    "        slug='django-training'\n",
    "    )\n",
    "except Post.MultipleObjectsReturned as e:\n",
    "    print(str(e))"
   ]
  },
  {
   "cell_type": "code",
   "execution_count": 7,
   "metadata": {
    "collapsed": false
   },
   "outputs": [
    {
     "data": {
      "text/plain": [
       "<Post: Conflict 2: The Return on 2013-01-18>"
      ]
     },
     "execution_count": 7,
     "metadata": {},
     "output_type": "execute_result"
    }
   ],
   "source": [
    "conflict2 = Post(\n",
    "    title='Conflict 2: The Return',\n",
    "    slug=training_post.slug,\n",
    "    text='More Problem Behavior in Theaters Soon!',\n",
    ")\n",
    "conflict2.save()\n",
    "conflict2.pub_date = training_post.pub_date\n",
    "conflict2.save()\n",
    "conflict2"
   ]
  },
  {
   "cell_type": "code",
   "execution_count": 8,
   "metadata": {
    "collapsed": false
   },
   "outputs": [
    {
     "name": "stdout",
     "output_type": "stream",
     "text": [
      "get() returned more than one Post -- it returned 3!\n"
     ]
    }
   ],
   "source": [
    "# this exception will be displayed at http://127.0.0.1:8000/blog/2013/11/django-training/\n",
    "try:\n",
    "    Post.objects.get(\n",
    "        pub_date__year=2013,\n",
    "        pub_date__month=1,\n",
    "        slug='django-training'\n",
    "    )\n",
    "except Post.MultipleObjectsReturned as e:\n",
    "    print(str(e))"
   ]
  },
  {
   "cell_type": "code",
   "execution_count": 9,
   "metadata": {
    "collapsed": false
   },
   "outputs": [
    {
     "name": "stdout",
     "output_type": "stream",
     "text": [
      "{'slug': ['Slug must be unique for Date published month.']}\n"
     ]
    }
   ],
   "source": [
    "from django.core.exceptions import ValidationError\n",
    "try:\n",
    "    conflict.full_clean()\n",
    "except ValidationError as e:\n",
    "    print(str(e))"
   ]
  },
  {
   "cell_type": "code",
   "execution_count": 10,
   "metadata": {
    "collapsed": false
   },
   "outputs": [
    {
     "data": {
      "text/plain": [
       "[<Post: Conflict on 2013-01-18>, <Post: Conflict 2: The Return on 2013-01-18>, <Post: Django Training on 2013-01-18>]"
      ]
     },
     "execution_count": 10,
     "metadata": {},
     "output_type": "execute_result"
    }
   ],
   "source": [
    "Post.objects.all()"
   ]
  },
  {
   "cell_type": "code",
   "execution_count": 11,
   "metadata": {
    "collapsed": false
   },
   "outputs": [
    {
     "data": {
      "text/plain": [
       "[<Post: Django Training on 2013-01-18>]"
      ]
     },
     "execution_count": 11,
     "metadata": {},
     "output_type": "execute_result"
    }
   ],
   "source": [
    "Post.objects.filter(title__icontains='conflict').delete()\n",
    "Post.objects.all()"
   ]
  }
 ],
 "metadata": {
  "kernelspec": {
   "display_name": "Django Shell-Plus",
   "language": "python",
   "name": "django_extensions"
  },
  "language_info": {
   "codemirror_mode": {
    "name": "ipython",
    "version": 3
   },
   "file_extension": ".py",
   "mimetype": "text/x-python",
   "name": "python",
   "nbconvert_exporter": "python",
   "pygments_lexer": "ipython3",
   "version": "3.4.3"
  }
 },
 "nbformat": 4,
 "nbformat_minor": 0
}
