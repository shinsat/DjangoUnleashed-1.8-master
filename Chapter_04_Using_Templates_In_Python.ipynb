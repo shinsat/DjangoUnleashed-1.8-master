{
 "cells": [
  {
   "cell_type": "markdown",
   "metadata": {},
   "source": [
    "# Template Objects in Python"
   ]
  },
  {
   "cell_type": "markdown",
   "metadata": {},
   "source": [
    "## Introducting `Template` and `Context`"
   ]
  },
  {
   "cell_type": "code",
   "execution_count": 1,
   "metadata": {
    "collapsed": true
   },
   "outputs": [],
   "source": [
    "from django.template import Template, Context"
   ]
  },
  {
   "cell_type": "code",
   "execution_count": 2,
   "metadata": {
    "collapsed": true
   },
   "outputs": [],
   "source": [
    "template = Template('Hi, my name is {{ name }}.')"
   ]
  },
  {
   "cell_type": "code",
   "execution_count": 3,
   "metadata": {
    "collapsed": false
   },
   "outputs": [
    {
     "data": {
      "text/plain": [
       "'Hi, my name is Andrew.'"
      ]
     },
     "execution_count": 3,
     "metadata": {},
     "output_type": "execute_result"
    }
   ],
   "source": [
    "context = Context({'name': 'Andrew'})\n",
    "template.render(context)"
   ]
  },
  {
   "cell_type": "code",
   "execution_count": 4,
   "metadata": {
    "collapsed": false
   },
   "outputs": [
    {
     "data": {
      "text/plain": [
       "'Hi, my name is Ada.'"
      ]
     },
     "execution_count": 4,
     "metadata": {},
     "output_type": "execute_result"
    }
   ],
   "source": [
    "# no need to reload/recreate the template\n",
    "context = Context({'name': 'Ada'})\n",
    "template.render(context)"
   ]
  },
  {
   "cell_type": "code",
   "execution_count": 5,
   "metadata": {
    "collapsed": false
   },
   "outputs": [
    {
     "data": {
      "text/plain": [
       "'Hi, my name is .'"
      ]
     },
     "execution_count": 5,
     "metadata": {},
     "output_type": "execute_result"
    }
   ],
   "source": [
    "template.render(Context())"
   ]
  },
  {
   "cell_type": "code",
   "execution_count": 6,
   "metadata": {
    "collapsed": false
   },
   "outputs": [
    {
     "data": {
      "text/plain": [
       "'Hi, my name is Andrew.'"
      ]
     },
     "execution_count": 6,
     "metadata": {},
     "output_type": "execute_result"
    }
   ],
   "source": [
    "template.render(Context({'name': 'Andrew'}))"
   ]
  },
  {
   "cell_type": "code",
   "execution_count": 7,
   "metadata": {
    "collapsed": false
   },
   "outputs": [
    {
     "data": {
      "text/plain": [
       "'Hi, my name is .'"
      ]
     },
     "execution_count": 7,
     "metadata": {},
     "output_type": "execute_result"
    }
   ],
   "source": [
    "template.render(Context({'Name': 'Andrew'}))"
   ]
  },
  {
   "cell_type": "code",
   "execution_count": 8,
   "metadata": {
    "collapsed": false
   },
   "outputs": [
    {
     "name": "stdout",
     "output_type": "stream",
     "text": [
      "Ouch!\n",
      "she said dutifully\n",
      "as she jumped into her convertible boat\n",
      "and drove off with her pineapple.\n",
      "\n"
     ]
    }
   ],
   "source": [
    "template = Template(\n",
    "    '{{ ml.exclaim }}!\\n'\n",
    "    'she said {{ ml.adverb }}\\n'\n",
    "    'as she jumped into her convertible {{ ml.noun1 }}\\n'\n",
    "    'and drove off with her {{ ml.noun2 }}.\\n'\n",
    ")\n",
    "mad_lib = {\n",
    "    'exclaim':'Ouch',\n",
    "    'adverb':'dutifully',\n",
    "    'noun1':'boat',\n",
    "    'noun2':'pineapple',\n",
    "}\n",
    "context = Context({'ml': mad_lib})\n",
    "print(template.render(context))"
   ]
  },
  {
   "cell_type": "markdown",
   "metadata": {},
   "source": [
    "## Loading Templates from Disk"
   ]
  },
  {
   "cell_type": "code",
   "execution_count": 9,
   "metadata": {
    "collapsed": true
   },
   "outputs": [],
   "source": [
    "from django.template import loader"
   ]
  },
  {
   "cell_type": "code",
   "execution_count": 10,
   "metadata": {
    "collapsed": true
   },
   "outputs": [],
   "source": [
    "template = loader.get_template('organizer/tag_list.html')"
   ]
  },
  {
   "cell_type": "code",
   "execution_count": 11,
   "metadata": {
    "collapsed": false
   },
   "outputs": [
    {
     "name": "stdout",
     "output_type": "stream",
     "text": [
      "<!DOCTYPE html>\n",
      "<html lang=\"en\">\n",
      "\n",
      "  <head>\n",
      "    <meta charset=\"utf-8\">\n",
      "    <title>\n",
      "      \n",
      "\n",
      "        Startup Organizer\n",
      "       - Tag List\n",
      "\n",
      "    </title>\n",
      "    <meta http-equiv=\"X-UA-Compatible\" content=\"IE=edge,chrome=1\">\n",
      "    <meta name=\"viewport\" content=\"width=device-width, initial-scale=1\">\n",
      "    <!--[if IE]><script\n",
      "      src=\"http://html5shiv.googlecode.com/svn/trunk/html5.js\">\n",
      "    </script><![endif]-->\n",
      "  </head>\n",
      "\n",
      "  <body>\n",
      "\n",
      "    <div><!-- container -->\n",
      "      <header>\n",
      "          <h1>Startup Organizer</h1>\n",
      "      </header>\n",
      "      <main>\n",
      "        \n",
      "  <h2>Tag List</h2>\n",
      "  <ul>\n",
      "    \n",
      "      <li>\n",
      "        <a href=\"\">\n",
      "          Pirates</a>\n",
      "      </li>\n",
      "    \n",
      "      <li>\n",
      "        <a href=\"\">\n",
      "          Ninjas</a>\n",
      "      </li>\n",
      "    \n",
      "      <li>\n",
      "        <a href=\"\">\n",
      "          Cowboys</a>\n",
      "      </li>\n",
      "    \n",
      "  </ul>\n",
      "\n",
      "      </main>\n",
      "    </div><!-- container -->\n",
      "\n",
      "    <footer>\n",
      "      <p>\n",
      "        &copy; 2015\n",
      "        <a href=\"https://AndrewsForge.com/\">\n",
      "          Andrew Pinkham</a>\n",
      "      </p>\n",
      "      <p>\n",
      "        Created for\n",
      "        <a href=\"https://Django-Unleashed.com/\">\n",
      "          Django Unleashed</a>\n",
      "      </p>\n",
      "    </footer>\n",
      "\n",
      "  </body>\n",
      "\n",
      "</html>\n",
      "\n"
     ]
    }
   ],
   "source": [
    "best_list = [\n",
    "    {'name': 'Pirates'},\n",
    "    {'name': 'Ninjas'},\n",
    "    {'name': 'Cowboys'},\n",
    "]\n",
    "context = Context({'tag_list': best_list})\n",
    "print(template.render(context))"
   ]
  },
  {
   "cell_type": "code",
   "execution_count": 12,
   "metadata": {
    "collapsed": true
   },
   "outputs": [],
   "source": [
    "from organizer.models import Tag"
   ]
  },
  {
   "cell_type": "code",
   "execution_count": 13,
   "metadata": {
    "collapsed": false
   },
   "outputs": [
    {
     "data": {
      "text/plain": [
       "[<Tag: Django>, <Tag: Mobile>, <Tag: Video Games>, <Tag: Web>]"
      ]
     },
     "execution_count": 13,
     "metadata": {},
     "output_type": "execute_result"
    }
   ],
   "source": [
    "Tag.objects.all()"
   ]
  },
  {
   "cell_type": "code",
   "execution_count": 14,
   "metadata": {
    "collapsed": false
   },
   "outputs": [
    {
     "name": "stdout",
     "output_type": "stream",
     "text": [
      "<!DOCTYPE html>\n",
      "<html lang=\"en\">\n",
      "\n",
      "  <head>\n",
      "    <meta charset=\"utf-8\">\n",
      "    <title>\n",
      "      \n",
      "\n",
      "        Startup Organizer\n",
      "       - Tag List\n",
      "\n",
      "    </title>\n",
      "    <meta http-equiv=\"X-UA-Compatible\" content=\"IE=edge,chrome=1\">\n",
      "    <meta name=\"viewport\" content=\"width=device-width, initial-scale=1\">\n",
      "    <!--[if IE]><script\n",
      "      src=\"http://html5shiv.googlecode.com/svn/trunk/html5.js\">\n",
      "    </script><![endif]-->\n",
      "  </head>\n",
      "\n",
      "  <body>\n",
      "\n",
      "    <div><!-- container -->\n",
      "      <header>\n",
      "          <h1>Startup Organizer</h1>\n",
      "      </header>\n",
      "      <main>\n",
      "        \n",
      "  <h2>Tag List</h2>\n",
      "  <ul>\n",
      "    \n",
      "      <li>\n",
      "        <a href=\"\">\n",
      "          Django</a>\n",
      "      </li>\n",
      "    \n",
      "      <li>\n",
      "        <a href=\"\">\n",
      "          Mobile</a>\n",
      "      </li>\n",
      "    \n",
      "      <li>\n",
      "        <a href=\"\">\n",
      "          Video Games</a>\n",
      "      </li>\n",
      "    \n",
      "      <li>\n",
      "        <a href=\"\">\n",
      "          Web</a>\n",
      "      </li>\n",
      "    \n",
      "  </ul>\n",
      "\n",
      "      </main>\n",
      "    </div><!-- container -->\n",
      "\n",
      "    <footer>\n",
      "      <p>\n",
      "        &copy; 2015\n",
      "        <a href=\"https://AndrewsForge.com/\">\n",
      "          Andrew Pinkham</a>\n",
      "      </p>\n",
      "      <p>\n",
      "        Created for\n",
      "        <a href=\"https://Django-Unleashed.com/\">\n",
      "          Django Unleashed</a>\n",
      "      </p>\n",
      "    </footer>\n",
      "\n",
      "  </body>\n",
      "\n",
      "</html>\n",
      "\n"
     ]
    }
   ],
   "source": [
    "# we don't actually need to reload the template\n",
    "# code is here merely to emphasize the use of the loader\n",
    "template = loader.get_template('organizer/tag_list.html')\n",
    "context = Context({'tag_list': Tag.objects.all()})\n",
    "print(template.render(context))"
   ]
  }
 ],
 "metadata": {
  "kernelspec": {
   "display_name": "Django Shell-Plus",
   "language": "python",
   "name": "django_extensions"
  },
  "language_info": {
   "codemirror_mode": {
    "name": "ipython",
    "version": 3
   },
   "file_extension": ".py",
   "mimetype": "text/x-python",
   "name": "python",
   "nbconvert_exporter": "python",
   "pygments_lexer": "ipython3",
   "version": "3.4.3"
  }
 },
 "nbformat": 4,
 "nbformat_minor": 0
}
